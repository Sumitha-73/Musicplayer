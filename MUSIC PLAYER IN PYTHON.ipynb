{
 "cells": [
  {
   "cell_type": "markdown",
   "id": "134b5cc6",
   "metadata": {},
   "source": [
    "# SUMITHA.V\n"
   ]
  },
  {
   "cell_type": "code",
   "execution_count": 26,
   "id": "97b07c66",
   "metadata": {},
   "outputs": [
    {
     "data": {
      "application/vnd.jupyter.widget-view+json": {
       "model_id": "cb00382218b74a7abc8ee1969d45488f",
       "version_major": 2,
       "version_minor": 0
      },
      "text/plain": [
       "HBox(children=(Button(description='Previous', style=ButtonStyle()), Button(description='Play', style=ButtonSty…"
      ]
     },
     "metadata": {},
     "output_type": "display_data"
    }
   ],
   "source": [
    "import pygame\n",
    "import ipywidgets as widgets\n",
    "from IPython.display import display\n",
    "\n",
    "# Create the buttons\n",
    "play_button = widgets.Button(description='Play')\n",
    "pause_button = widgets.Button(description='Pause')\n",
    "stop_button = widgets.Button(description='Stop')\n",
    "previous_button = widgets.Button(description='Previous')\n",
    "next_button = widgets.Button(description='Next')\n",
    "\n",
    "# Create a playlist of song file paths\n",
    "playlist = [\n",
    "    r'C:\\Users\\sumit\\Music\\Playlists\\Anbe En Anbe.mp3',\n",
    "    r'C:\\Users\\sumit\\Music\\Playlists\\Kattu Sirikki × Usure Poguthu Remix.mp3',\n",
    "    r'C:\\Users\\sumit\\Music\\Playlists\\Manjal Veyil.mp3',\n",
    "    r'C:\\Users\\sumit\\Music\\Playlists\\Munbe Va - Bgm.mp3',\n",
    "    r'C:\\Users\\sumit\\Music\\Playlists\\Usurae Poguthu.mp3'\n",
    "    # Add more song paths as needed\n",
    "]\n",
    "\n",
    "# Index of the current song in the playlist\n",
    "current_song_index = 0\n",
    "\n",
    "# Function to load and play music\n",
    "def load_and_play_music(file_path):\n",
    "    pygame.mixer.init()\n",
    "    pygame.mixer.music.load(file_path)\n",
    "    pygame.mixer.music.play()\n",
    "\n",
    "# Function to play the next song\n",
    "def play_next_song(_):\n",
    "    global current_song_index\n",
    "    current_song_index = (current_song_index + 1) % len(playlist)  # Move to the next song\n",
    "    next_song_file_path = playlist[current_song_index]\n",
    "    load_and_play_music(next_song_file_path)\n",
    "\n",
    "# Function to play the previous song\n",
    "def play_previous_song(_):\n",
    "    global current_song_index\n",
    "    current_song_index = (current_song_index - 1) % len(playlist)  # Move to the previous song\n",
    "    previous_song_file_path = playlist[current_song_index]\n",
    "    load_and_play_music(previous_song_file_path)\n",
    "\n",
    "# Event handlers for the buttons\n",
    "def play_music(_):\n",
    "    pygame.mixer.music.unpause()\n",
    "\n",
    "def pause_music(_):\n",
    "    pygame.mixer.music.pause()\n",
    "\n",
    "def stop_music(_):\n",
    "    pygame.mixer.music.stop()\n",
    "\n",
    "# Assign event handlers to the buttons\n",
    "play_button.on_click(play_music)\n",
    "pause_button.on_click(pause_music)\n",
    "stop_button.on_click(stop_music)\n",
    "previous_button.on_click(play_previous_song)\n",
    "next_button.on_click(play_next_song)\n",
    "\n",
    "# Display the buttons\n",
    "display(widgets.HBox([previous_button, play_button, pause_button, stop_button, next_button]))\n",
    "\n",
    "# Load and play the initial song\n",
    "initial_song_file_path = playlist[current_song_index]\n",
    "load_and_play_music(initial_song_file_path)\n"
   ]
  },
  {
   "cell_type": "code",
   "execution_count": null,
   "id": "1ab04d19",
   "metadata": {},
   "outputs": [],
   "source": []
  }
 ],
 "metadata": {
  "kernelspec": {
   "display_name": "Python 3",
   "language": "python",
   "name": "python3"
  },
  "language_info": {
   "codemirror_mode": {
    "name": "ipython",
    "version": 3
   },
   "file_extension": ".py",
   "mimetype": "text/x-python",
   "name": "python",
   "nbconvert_exporter": "python",
   "pygments_lexer": "ipython3",
   "version": "3.8.8"
  }
 },
 "nbformat": 4,
 "nbformat_minor": 5
}
